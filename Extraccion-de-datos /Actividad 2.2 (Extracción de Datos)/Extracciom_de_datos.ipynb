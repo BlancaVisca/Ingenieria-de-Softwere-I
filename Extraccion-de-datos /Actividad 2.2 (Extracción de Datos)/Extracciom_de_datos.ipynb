{
  "nbformat": 4,
  "nbformat_minor": 0,
  "metadata": {
    "colab": {
      "provenance": [],
      "authorship_tag": "ABX9TyPcF4NesU7NI72zdGLoKsJW",
      "include_colab_link": true
    },
    "kernelspec": {
      "name": "python3",
      "display_name": "Python 3"
    },
    "language_info": {
      "name": "python"
    }
  },
  "cells": [
    {
      "cell_type": "markdown",
      "metadata": {
        "id": "view-in-github",
        "colab_type": "text"
      },
      "source": [
        "<a href=\"https://colab.research.google.com/github/BlancaVisca/Ingenieria-de-Softwere-I/blob/main/Extraccion-de-datos%20/Actividad%202.2%20(Extracci%C3%B3n%20de%20Datos)/Extracciom_de_datos.ipynb\" target=\"_parent\"><img src=\"https://colab.research.google.com/assets/colab-badge.svg\" alt=\"Open In Colab\"/></a>"
      ]
    },
    {
      "cell_type": "code",
      "execution_count": null,
      "metadata": {
        "id": "Q10AUzcEcsPp"
      },
      "outputs": [],
      "source": []
    }
  ]
}